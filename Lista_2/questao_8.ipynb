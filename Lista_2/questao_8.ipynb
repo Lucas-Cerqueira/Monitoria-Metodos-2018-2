{
 "cells": [
  {
   "cell_type": "markdown",
   "metadata": {},
   "source": [
    "### Questão 8\n",
    "Verifique a convergência da série: $\\sum \\frac{n}{e^{n^2}}$."
   ]
  },
  {
   "cell_type": "markdown",
   "metadata": {},
   "source": [
    "### Solução\n",
    "Pelo **teste da razão** (teste de D'Alembert):\n",
    "$$\n",
    "\\left\\lvert \\frac{a_{n+1}}{a_n} \\right\\rvert = \\frac{\\frac{n+1}{e^{(n+1)^2}}}{\\frac{n}{e^{n^2}}} = \\frac{n+1}{e^{(n+1)^2}}\\frac{e^{n^2}}{n} = \\frac{1+\\frac{1}{n}}{e^{2n+1}}\n",
    "$$\n",
    "\n",
    "Calculando o limite:\n",
    "$$\n",
    "\\lim_{n\\to\\infty} \\left\\lvert \\frac{a_{n+1}}{a_n} \\right\\rvert = \\lim_{n\\to\\infty} \\frac{1+\\frac{1}{n}}{e^{2n+1}} = 0 < 1\n",
    "$$\n",
    "\n",
    "Portanto, a série $\\sum \\frac{n}{e^{n^2}}$ é **absolutamente convergente**."
   ]
  },
  {
   "cell_type": "markdown",
   "metadata": {},
   "source": [
    "#### Importando bibliotecas"
   ]
  },
  {
   "cell_type": "code",
   "execution_count": 1,
   "metadata": {},
   "outputs": [],
   "source": [
    "import matplotlib.pyplot as plt\n",
    "import numpy as np\n",
    "%matplotlib inline"
   ]
  },
  {
   "cell_type": "markdown",
   "metadata": {},
   "source": [
    "#### Definindo as sequências $a_n = \\frac{n}{e^{n^2}}$ e $s_n = \\sum_{k=1}^{n} a_k$"
   ]
  },
  {
   "cell_type": "code",
   "execution_count": 13,
   "metadata": {},
   "outputs": [],
   "source": [
    "# Definindo a sequência de números n\n",
    "n = np.arange (1.0, 21.0)\n",
    "# Calculando as sequêncas a_n e s_n\n",
    "a_n = n/np.exp(n**2)\n",
    "s_n = np.cumsum(a_n)"
   ]
  },
  {
   "cell_type": "markdown",
   "metadata": {},
   "source": [
    "#### Gráfico das sequências"
   ]
  },
  {
   "cell_type": "code",
   "execution_count": 14,
   "metadata": {},
   "outputs": [
    {
     "name": "stdout",
     "output_type": "stream",
     "text": [
      "A série converge para approx.: 0.404881\n"
     ]
    },
    {
     "data": {
      "image/png": "[encoded data removed]",
      "text/plain": [
       "<Figure size 864x504 with 1 Axes>"
      ]
     },
     "metadata": {},
     "output_type": "display_data"
    }
   ],
   "source": [
    "fig=plt.figure(figsize=(12, 7))\n",
    "plt.scatter(n, s_n, s=40)\n",
    "plt.scatter(n, a_n, s=20)\n",
    "a = plt.legend(['s_n', 'a_n'])\n",
    "\n",
    "print (\"A série converge para approx.: %f\" % (s_n[-1])) #último elemento de s_n"
   ]
  }
 ],
 "metadata": {
  "kernelspec": {
   "display_name": "Python 2",
   "language": "python",
   "name": "python2"
  },
  "language_info": {
   "codemirror_mode": {
    "name": "ipython",
    "version": 2
   },
   "file_extension": ".py",
   "mimetype": "text/x-python",
   "name": "python",
   "nbconvert_exporter": "python",
   "pygments_lexer": "ipython2",
   "version": "2.7.12"
  }
 },
 "nbformat": 4,
 "nbformat_minor": 2
}
