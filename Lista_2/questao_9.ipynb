{
 "cells": [
  {
   "cell_type": "markdown",
   "metadata": {},
   "source": [
    "### Questão 9\n",
    "Verifique a convergência da série: $\\sum \\frac{n-1}{2^n + 2018^{2018}}$."
   ]
  },
  {
   "cell_type": "markdown",
   "metadata": {},
   "source": [
    "### Solução\n",
    "Pelo **teste da razão** (teste de D'Alembert) e fazendo $ K = 2018^{2018}$:\n",
    "$$\n",
    "\\left\\lvert \\frac{a_{n+1}}{a_n} \\right\\rvert = \\frac{\\frac{n}{2^{n+1} + K}}{\\frac{n-1}{2^n + K}} = \\frac{n}{2^{n+1} + K}\\frac{2^n + K}{n-1} = \\frac{n}{n-1}\\frac{2^n + K}{2^n2 + K} = \\frac{1}{1-\\frac{1}{n}}\\frac{1+\\frac{K}{2^n}}{2+\\frac{K}{2^n}}\n",
    "$$\n",
    "\n",
    "Calculando o limite:\n",
    "$$\n",
    "\\lim_{n\\to\\infty} \\left\\lvert \\frac{a_{n+1}}{a_n} \\right\\rvert = \\lim_{n\\to\\infty} \\frac{1}{1-\\frac{1}{n}}\\frac{1+\\frac{K}{2^n}}{2+\\frac{K}{2^n}} = \\frac{1}{2} < 1\n",
    "$$\n",
    "\n",
    "Portanto, a série $\\sum \\frac{n-1}{2^n + 2018^{2018}}$ é **absolutamente convergente**."
   ]
  },
  {
   "cell_type": "markdown",
   "metadata": {},
   "source": [
    "#### Importando bibliotecas"
   ]
  },
  {
   "cell_type": "code",
   "execution_count": 9,
   "metadata": {},
   "outputs": [],
   "source": [
    "import matplotlib.pyplot as plt\n",
    "import numpy as np\n",
    "%matplotlib inline"
   ]
  },
  {
   "cell_type": "markdown",
   "metadata": {},
   "source": [
    "#### Definindo as sequências $a_n = \\frac{n-1}{2^n + K}$ e $s_n = \\sum_{k=1}^{n} a_k$\n",
    "Na solução pode-se perceber que a convergência independe do valor da constante $K$ do denominador, então vou usar $K = 1000$, já que a constante $2018^{2018}$ ficou inviável de calcular."
   ]
  },
  {
   "cell_type": "code",
   "execution_count": 26,
   "metadata": {},
   "outputs": [],
   "source": [
    "# Definindo a sequência de números n\n",
    "n = np.arange (1.0, 101.0)\n",
    "# Calculando as sequêncas a_n e s_n\n",
    "a_n = (n-1)/(2.0**n + 1000)\n",
    "s_n = np.cumsum(a_n)"
   ]
  },
  {
   "cell_type": "markdown",
   "metadata": {},
   "source": [
    "#### Gráfico das sequências"
   ]
  },
  {
   "cell_type": "code",
   "execution_count": 27,
   "metadata": {},
   "outputs": [
    {
     "name": "stdout",
     "output_type": "stream",
     "text": [
      "A série converge para approx.: 0.043529\n"
     ]
    },
    {
     "data": {
      "image/png": "[encoded data removed]",
      "text/plain": [
       "<Figure size 864x504 with 1 Axes>"
      ]
     },
     "metadata": {},
     "output_type": "display_data"
    }
   ],
   "source": [
    "fig=plt.figure(figsize=(12, 7))\n",
    "plt.scatter(n, s_n, s=40)\n",
    "plt.scatter(n, a_n, s=20)\n",
    "a = plt.legend(['s_n', 'a_n'])\n",
    "\n",
    "print (\"A série converge para approx.: %f\" % (s_n[-1])) #último elemento de s_n"
   ]
  }
 ],
 "metadata": {
  "kernelspec": {
   "display_name": "Python 2",
   "language": "python",
   "name": "python2"
  },
  "language_info": {
   "codemirror_mode": {
    "name": "ipython",
    "version": 2
   },
   "file_extension": ".py",
   "mimetype": "text/x-python",
   "name": "python",
   "nbconvert_exporter": "python",
   "pygments_lexer": "ipython2",
   "version": "2.7.12"
  }
 },
 "nbformat": 4,
 "nbformat_minor": 2
}
