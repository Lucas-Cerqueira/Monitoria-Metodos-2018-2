{
 "cells": [
  {
   "cell_type": "markdown",
   "metadata": {},
   "source": [
    "### Questão 6\n",
    "Verifique a convergência da série $\\sum \\frac{n^2}{n!}$."
   ]
  },
  {
   "cell_type": "markdown",
   "metadata": {},
   "source": [
    "### Solução\n",
    "Pelo **teste da razão** (teste de D'Alembert):\n",
    "$$\n",
    "\\left\\lvert \\frac{a_{n+1}}{a_n} \\right\\rvert = \\frac{\\frac{(n+1)^2}{(n+1)!}}{\\frac{n^2}{n!}} = \\frac{(n+1)^2}{n^2(n+1)} = \\frac{n+1}{n^2}\n",
    "$$\n",
    "\n",
    "Calculando o limite:\n",
    "$$\n",
    "\\lim_{n\\to\\infty} \\left\\lvert \\frac{a_{n+1}}{a_n} \\right\\rvert = \\lim_{n\\to\\infty} \\frac{n+1}{n^2} = 0 < 1\n",
    "$$\n",
    "\n",
    "Portanto, a série $\\sum \\frac{n^2}{n!}$ é **absolutamente convergente**."
   ]
  },
  {
   "cell_type": "markdown",
   "metadata": {},
   "source": [
    "#### Importando bibliotecas"
   ]
  },
  {
   "cell_type": "code",
   "execution_count": 3,
   "metadata": {},
   "outputs": [],
   "source": [
    "import matplotlib.pyplot as plt\n",
    "import numpy as np\n",
    "from scipy.misc import factorial\n",
    "%matplotlib inline"
   ]
  },
  {
   "cell_type": "markdown",
   "metadata": {},
   "source": [
    "#### Definindo as sequências $a_n = \\frac{n^2}{n!}$ e $s_n = \\sum_{k=1}^{n} a_k$"
   ]
  },
  {
   "cell_type": "code",
   "execution_count": 30,
   "metadata": {},
   "outputs": [],
   "source": [
    "# Definindo a sequência de números n\n",
    "n = np.arange (1.0, 100.0)\n",
    "# Calculando as sequências a_n e s_n\n",
    "a_n = n**2/factorial(n)\n",
    "s_n = np.cumsum(a_n)"
   ]
  },
  {
   "cell_type": "markdown",
   "metadata": {},
   "source": [
    "#### Gráfico das sequências"
   ]
  },
  {
   "cell_type": "code",
   "execution_count": 29,
   "metadata": {},
   "outputs": [
    {
     "name": "stdout",
     "output_type": "stream",
     "text": [
      "A série converge para approx.: 5.436564\n"
     ]
    },
    {
     "data": {
      "image/png": "[encoded data removed]",
      "text/plain": [
       "<Figure size 864x504 with 1 Axes>"
      ]
     },
     "metadata": {},
     "output_type": "display_data"
    }
   ],
   "source": [
    "fig=plt.figure(figsize=(12, 7))\n",
    "plt.scatter(n, s_n, s=40)\n",
    "plt.scatter(n, a_n, s=20)\n",
    "a = plt.legend(['s_n', 'a_n'])\n",
    "\n",
    "print (\"A série converge para approx.: %f\" % (s_n[-1])) #último elemento de s_n"
   ]
  }
 ],
 "metadata": {
  "kernelspec": {
   "display_name": "Python 2",
   "language": "python",
   "name": "python2"
  },
  "language_info": {
   "codemirror_mode": {
    "name": "ipython",
    "version": 2
   },
   "file_extension": ".py",
   "mimetype": "text/x-python",
   "name": "python",
   "nbconvert_exporter": "python",
   "pygments_lexer": "ipython2",
   "version": "2.7.12"
  }
 },
 "nbformat": 4,
 "nbformat_minor": 2
}
