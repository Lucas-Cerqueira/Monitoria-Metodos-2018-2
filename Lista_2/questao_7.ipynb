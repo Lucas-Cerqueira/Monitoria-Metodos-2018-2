{
 "cells": [
  {
   "cell_type": "markdown",
   "metadata": {},
   "source": [
    "### Questão 7\n",
    "Verifique a convergência da série $\\sum \\frac{2^n n!}{n^n}$."
   ]
  },
  {
   "cell_type": "markdown",
   "metadata": {},
   "source": [
    "### Solução\n",
    "Pelo **teste da razão** (teste de D'Alembert):\n",
    "$$\n",
    "\\left\\lvert \\frac{a_{n+1}}{a_n} \\right\\rvert = \\frac{\\frac{2^{n+1}(n+1)!}{(n+1)^{n+1}}}{\\frac{2^{n}n!}{n^{n}}} = \\frac{2^{n+1}(n+1)!}{(n+1)^{n+1}}\\frac{n^{n}}{2^{n}n!} = 2\\big(\\frac{n}{n+1}\\big)^n = 2\\big(\\frac{1}{1+\\frac{1}{n}}\\big)^n = \\frac{2}{\\big(1+\\frac{1}{n}\\big)^n}\n",
    "$$\n",
    "\n",
    "Logo:\n",
    "$$\n",
    "\\lim_{n\\to\\infty} \\left\\lvert \\frac{a_{n+1}}{a_n} \\right\\rvert = \\lim_{n\\to\\infty} \\frac{2}{\\big(1+\\frac{1}{n}\\big)^n}\n",
    "$$\n",
    "\n",
    "Calculando o limite do denominador:\n",
    "$$\n",
    "\\lim_{n\\to\\infty} \\big(\\frac{1}{1+\\frac{1}{n}}\\big)^n = \\lim_{n\\to\\infty} e^{\\ln\\big(1+\\frac{1}{n}\\big)^n} = \\lim_{n\\to\\infty} e^{n\\ln\\big(1+\\frac{1}{n}\\big)} = e^{\\lim_{n\\to\\infty} n\\ln\\big(1+\\frac{1}{n}\\big)} = e^{\\lim_{n\\to\\infty} \\frac{\\ln\\big(1+\\frac{1}{n}\\big)}{\\frac{1}{n}}}\n",
    "$$\n",
    "\n",
    "Por L'Hopital:\n",
    "$$\n",
    "e^{\\lim_{n\\to\\infty} \\frac{\\ln\\big(1+\\frac{1}{n}\\big)}{\\frac{1}{n}}} = e^{\\lim_{n\\to\\infty} \\frac{1}{1+\\frac{1}{n}}} = e\n",
    "$$\n",
    "\n",
    "Já que o limite do denominador é diferente de $0$:\n",
    "$$\n",
    "\\lim_{n\\to\\infty} \\left\\lvert \\frac{a_{n+1}}{a_n} \\right\\rvert = \\lim_{n\\to\\infty} \\frac{2}{\\big(1+\\frac{1}{n}\\big)^n} = \\frac{2}{\\lim_{n\\to\\infty}\\big(1+\\frac{1}{n}\\big)^n} = \\frac{2}{e}\\,<\\,1\n",
    "$$\n",
    "\n",
    "Portanto, a série $\\sum \\frac{2^n n!}{n^n}$ é **absolutamente convergente**."
   ]
  },
  {
   "cell_type": "markdown",
   "metadata": {},
   "source": [
    "#### Importando bibliotecas"
   ]
  },
  {
   "cell_type": "code",
   "execution_count": 2,
   "metadata": {},
   "outputs": [],
   "source": [
    "import matplotlib.pyplot as plt\n",
    "import numpy as np\n",
    "from scipy.misc import factorial\n",
    "%matplotlib inline"
   ]
  },
  {
   "cell_type": "markdown",
   "metadata": {},
   "source": [
    "#### Definindo as sequências $a_n = \\frac{2^n n!}{n^n}$ e $s_n = \\sum_{k=1}^{n} a_k$"
   ]
  },
  {
   "cell_type": "code",
   "execution_count": 5,
   "metadata": {},
   "outputs": [],
   "source": [
    "# Definindo a sequência de números n\n",
    "n = np.arange (1.0, 100.0)\n",
    "# Calculando as sequências a_n e s_n\n",
    "a_n = 2**n * factorial(n) / n**n\n",
    "s_n = np.cumsum(a_n)"
   ]
  },
  {
   "cell_type": "markdown",
   "metadata": {},
   "source": [
    "#### Gráfico das sequências"
   ]
  },
  {
   "cell_type": "code",
   "execution_count": 6,
   "metadata": {},
   "outputs": [
    {
     "name": "stdout",
     "output_type": "stream",
     "text": [
      "A série converge para approx.: 12.948950\n"
     ]
    },
    {
     "data": {
      "image/png": "[encoded data removed]",
      "text/plain": [
       "<Figure size 864x504 with 1 Axes>"
      ]
     },
     "metadata": {},
     "output_type": "display_data"
    }
   ],
   "source": [
    "fig=plt.figure(figsize=(12, 7))\n",
    "plt.scatter(n, s_n, s=40)\n",
    "plt.scatter(n, a_n, s=20)\n",
    "a = plt.legend(['s_n', 'a_n'])\n",
    "\n",
    "print (\"A série converge para approx.: %f\" % (s_n[-1])) #último elemento de s_n"
   ]
  }
 ],
 "metadata": {
  "kernelspec": {
   "display_name": "Python 2",
   "language": "python",
   "name": "python2"
  },
  "language_info": {
   "codemirror_mode": {
    "name": "ipython",
    "version": 2
   },
   "file_extension": ".py",
   "mimetype": "text/x-python",
   "name": "python",
   "nbconvert_exporter": "python",
   "pygments_lexer": "ipython2",
   "version": "2.7.12"
  }
 },
 "nbformat": 4,
 "nbformat_minor": 2
}
