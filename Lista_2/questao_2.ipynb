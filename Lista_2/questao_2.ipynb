{
 "cells": [
  {
   "cell_type": "markdown",
   "metadata": {},
   "source": [
    "### Questão 2\n",
    "Mostre que a sequência $\\frac{n^2\\sin(\\frac{\\pi}{n})}{n+1}$ converge e calcule seu limite."
   ]
  },
  {
   "cell_type": "markdown",
   "metadata": {},
   "source": [
    "### Solução\n",
    "\n",
    "Partindo da [questão 1](questao_1.ipynb), sabe-se que a sequência $\\big(n\\sin\\big(\\frac{\\pi}{n}\\big)\\big)$ é monótona crescente e converge para $\\pi$. Com isso e como $\\frac{n}{n+1} < 1 \\, \\forall n \\in \\mathbb{N}$:\n",
    "\n",
    "$$\n",
    "\\begin{align*}\n",
    " 0 &\\leq n\\sin\\Big(\\frac{\\pi}{n}\\Big) &\\leq \\pi \\\\\n",
    " 0 &\\leq n\\sin\\Big(\\frac{\\pi}{n}\\Big)\\frac{n}{n+1} &< \\pi\n",
    "\\end{align*}\n",
    "$$\n",
    "\n",
    "Já que $\\frac{n^2\\sin(\\frac{\\pi}{n})}{n+1}$ é monótona crescente e limitada, então essa sequência **converge**. \n",
    "\n",
    "Calculando o limite dessa sequência:\n",
    "\n",
    "$$\n",
    "\\lim_{n\\to\\infty} \\frac{n^2\\sin\\big(\\frac{\\pi}{n}\\big)}{n+1} = \\lim_{n\\to\\infty} \\frac{\\sin\\big(\\frac{\\pi}{n}\\big)}{\\frac{1}{n} + \\frac{1}{n^2}}\n",
    "$$\n",
    "Por L'Hopital:\n",
    "$$\n",
    "\\lim_{n\\to\\infty} \\frac{\\sin\\big(\\frac{\\pi}{n}\\big)}{\\frac{1}{n} + \\frac{1}{n^2}} = \\lim_{n\\to\\infty} \\frac{\\cos\\big(\\frac{\\pi}{n}\\big)\\frac{\\pi}{n^2}}{\\frac{1}{n^2} + \\frac{2}{n^3}} = \\lim_{n\\to\\infty} \\frac{\\cos\\big(\\frac{\\pi}{n}\\big)\\pi}{1 + \\frac{2}{n}} = \\pi\n",
    "$$"
   ]
  },
  {
   "cell_type": "markdown",
   "metadata": {},
   "source": [
    "#### Importando bibliotecas"
   ]
  },
  {
   "cell_type": "code",
   "execution_count": 2,
   "metadata": {},
   "outputs": [],
   "source": [
    "import matplotlib.pyplot as plt\n",
    "import numpy as np\n",
    "%matplotlib inline"
   ]
  },
  {
   "cell_type": "markdown",
   "metadata": {},
   "source": [
    "#### Definindo a sequência $x_n = \\frac{n^2\\sin(\\frac{\\pi}{n})}{n+1}$"
   ]
  },
  {
   "cell_type": "code",
   "execution_count": 7,
   "metadata": {},
   "outputs": [],
   "source": [
    "# Definindo a sequência de números n\n",
    "n = np.arange (1.0, 501.0) # de 1 (inclusive) até 51 (exclusive)\n",
    "# Calculando a função\n",
    "x_n = (n**2 * np.sin(np.pi/n))/(n+1)"
   ]
  },
  {
   "cell_type": "markdown",
   "metadata": {},
   "source": [
    "#### Gráfico de $x_n$ e de $\\left\\lvert x_n \\right\\rvert$."
   ]
  },
  {
   "cell_type": "code",
   "execution_count": 9,
   "metadata": {},
   "outputs": [
    {
     "name": "stdout",
     "output_type": "stream",
     "text": [
      "A sequência converge para approx.: 3.135301\n"
     ]
    },
    {
     "data": {
      "image/png": "[encoded data removed]",
      "text/plain": [
       "<Figure size 864x504 with 1 Axes>"
      ]
     },
     "metadata": {},
     "output_type": "display_data"
    }
   ],
   "source": [
    "fig=plt.figure(figsize=(12, 7))\n",
    "plt.scatter(n, x_n, s=50)\n",
    "plt.legend(['x_n'])\n",
    "\n",
    "print ('A sequência converge para approx.: %f' % (x_n[-1])) # último elemento da sequência"
   ]
  }
 ],
 "metadata": {
  "kernelspec": {
   "display_name": "Python 2",
   "language": "python",
   "name": "python2"
  },
  "language_info": {
   "codemirror_mode": {
    "name": "ipython",
    "version": 2
   },
   "file_extension": ".py",
   "mimetype": "text/x-python",
   "name": "python",
   "nbconvert_exporter": "python",
   "pygments_lexer": "ipython2",
   "version": "2.7.12"
  }
 },
 "nbformat": 4,
 "nbformat_minor": 2
}
