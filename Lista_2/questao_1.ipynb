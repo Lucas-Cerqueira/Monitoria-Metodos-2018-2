{
 "cells": [
  {
   "cell_type": "markdown",
   "metadata": {},
   "source": [
    "### Questão 1\n",
    "Calcule o limite da sequência $\\big(n\\sin\\big(\\frac{\\pi}{n}\\big)\\big)$."
   ]
  },
  {
   "cell_type": "markdown",
   "metadata": {},
   "source": [
    "### Solução\n",
    "\n",
    "$$\n",
    "\\lim_{n\\to\\infty} n\\sin\\Big(\\frac{\\pi}{n}\\Big) = \\lim_{n\\to\\infty} \\frac{\\sin\\Big(\\frac{\\pi}{n}\\Big)}{\\frac{1}{n}}\n",
    "$$\n",
    "Por L'Hopital:\n",
    "$$\n",
    "\\lim_{n\\to\\infty} \\frac{\\sin\\Big(\\frac{\\pi}{n}\\Big)}{\\frac{1}{n}} = \\lim_{n\\to\\infty} \\frac{\\cos\\big(\\frac{\\pi}{n}\\big)\\frac{\\pi}{n^2}}{\\frac{1}{n^2}} = \\lim_{n\\to\\infty} \\pi\\cos\\Big(\\frac{\\pi}{n}\\Big) = \\pi\n",
    "$$"
   ]
  },
  {
   "cell_type": "markdown",
   "metadata": {},
   "source": [
    "#### Importando bibliotecas"
   ]
  },
  {
   "cell_type": "code",
   "execution_count": 5,
   "metadata": {},
   "outputs": [],
   "source": [
    "import matplotlib.pyplot as plt\n",
    "import numpy as np\n",
    "%matplotlib inline"
   ]
  },
  {
   "cell_type": "markdown",
   "metadata": {},
   "source": [
    "#### Definindo a sequência $x_n = n\\sin\\big(\\frac{\\pi}{n}\\big)$"
   ]
  },
  {
   "cell_type": "code",
   "execution_count": 11,
   "metadata": {},
   "outputs": [],
   "source": [
    "# Definindo a sequência de números n\n",
    "n = np.arange (1.0, 101.0) # de 1 (inclusive) até 51 (exclusive)\n",
    "# Calculando a função\n",
    "x_n = n*np.sin(np.pi/n)"
   ]
  },
  {
   "cell_type": "markdown",
   "metadata": {},
   "source": [
    "#### Gráfico de $x_n$"
   ]
  },
  {
   "cell_type": "code",
   "execution_count": 13,
   "metadata": {},
   "outputs": [
    {
     "name": "stdout",
     "output_type": "stream",
     "text": [
      "A sequência converge para approx.: 3.141076\n"
     ]
    },
    {
     "data": {
      "image/png": "[encoded data removed]",
      "text/plain": [
       "<Figure size 864x504 with 1 Axes>"
      ]
     },
     "metadata": {},
     "output_type": "display_data"
    }
   ],
   "source": [
    "fig=plt.figure(figsize=(12, 7))\n",
    "plt.scatter(n, x_n, s=50)\n",
    "plt.legend(['x_n'])\n",
    "\n",
    "print ('A sequência converge para approx.: %f' % (x_n[-1])) # último elemento da sequência"
   ]
  }
 ],
 "metadata": {
  "kernelspec": {
   "display_name": "Python 2",
   "language": "python",
   "name": "python2"
  },
  "language_info": {
   "codemirror_mode": {
    "name": "ipython",
    "version": 2
   },
   "file_extension": ".py",
   "mimetype": "text/x-python",
   "name": "python",
   "nbconvert_exporter": "python",
   "pygments_lexer": "ipython2",
   "version": "2.7.12"
  }
 },
 "nbformat": 4,
 "nbformat_minor": 2
}
