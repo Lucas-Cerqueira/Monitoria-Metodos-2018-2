{
 "cells": [
  {
   "cell_type": "markdown",
   "metadata": {},
   "source": [
    "### Questão 3"
   ]
  },
  {
   "cell_type": "markdown",
   "metadata": {},
   "source": [
    "Dados $q > 0$ e $x_1 = 1$, defina a sequência $(x_n)$ indutivamente por $x_{n+1} = x_n.q$, para todo $n \\in \\mathbb{N}$.<br>\n",
    "Disserte a respeito do seguinte desenvolvimento matemático:"
   ]
  },
  {
   "cell_type": "markdown",
   "metadata": {},
   "source": [
    "### Solução\n",
    "\n",
    "Analisando alguns termos de $x_n$, levanta-se a hipótese de $x_n = q^{n-1}$:\n",
    "$$\n",
    "\\begin{align*}\n",
    "x_1 & = 1 && = q^0 \\\\\n",
    "x_2 & = x_1.q && = q^1 \\\\\n",
    "x_3 & = x_2.q = x_1.q^2 && = q^2 \\\\\n",
    "\\vdots\n",
    "\\end{align*}\n",
    "$$\n",
    "\n",
    "Assumindo a hipótese de que $x_n = q^{n-1}$ vale para um $n = k$:\n",
    "$$ x_k = q^{k-1}$$\n",
    "\n",
    "Para $n = k + 1$, pelo enunciado temos $x_{k+1} = x_{k}.q$. Com isso:\n",
    "$$ x_{k+1} = q^{k-1}.q = q^k $$\n",
    "\n",
    "Logo, por indução:\n",
    "$$ x_n = q^{n-1}, \\; \\forall n \\in \\mathbb{N}$$\n",
    "\n",
    "A respeito do desenvolvimento matemático de que $lim_{} \\, x_n = 0$, em nenhum momento foi levado em conta o valor de $q$.\n",
    "$$\n",
    "\\begin{align*}\n",
    "q < 1 &&\\rightarrow \\lim_{}\\, x_n &= 0 \\\\\n",
    "q = 1 &&\\rightarrow \\lim_{}\\, x_n &= 1 \\\\\n",
    "q > 1 &&\\rightarrow \\lim_{}\\, x_n &= \\infty \\\\\n",
    "\\end{align*}\n",
    "$$\n",
    "\n",
    "Portanto, o desenvolvimento apresentado no enunciado só vale para $q < 1$."
   ]
  },
  {
   "cell_type": "markdown",
   "metadata": {},
   "source": [
    "#### Importando bibliotecas"
   ]
  },
  {
   "cell_type": "code",
   "execution_count": 2,
   "metadata": {},
   "outputs": [],
   "source": [
    "import matplotlib.pyplot as plt\n",
    "import numpy as np\n",
    "%matplotlib inline"
   ]
  },
  {
   "cell_type": "markdown",
   "metadata": {},
   "source": [
    "#### Definindo a sequência $x_n = q^{n-1}$  para diferentes valores de $q$ e seus respectivos gráficos."
   ]
  },
  {
   "cell_type": "code",
   "execution_count": 3,
   "metadata": {},
   "outputs": [],
   "source": [
    "# Definindo a sequência de números n\n",
    "n = np.arange (1.0, 51.0) # de 1 (inclusive) até 51 (exclusive)"
   ]
  },
  {
   "cell_type": "code",
   "execution_count": 7,
   "metadata": {},
   "outputs": [
    {
     "data": {
      "text/plain": [
       "Text(0,0.5,'x_n')"
      ]
     },
     "execution_count": 7,
     "metadata": {},
     "output_type": "execute_result"
    },
    {
     "data": {
      "image/png": "[encoded data removed]",
      "text/plain": [
       "<Figure size 1080x648 with 1 Axes>"
      ]
     },
     "metadata": {},
     "output_type": "display_data"
    }
   ],
   "source": [
    "fig=plt.figure(figsize=(15, 9))\n",
    "\n",
    "q = 0.9\n",
    "x_n = q**(n-1)\n",
    "plt.scatter(n, x_n)\n",
    "\n",
    "q = 1\n",
    "x_n = q**(n-1)\n",
    "plt.scatter(n, x_n)\n",
    "\n",
    "q = 1.02\n",
    "x_n = q**(n-1)\n",
    "plt.scatter(n, x_n)\n",
    "\n",
    "plt.legend(['q = 0.5', 'q = 1', 'q = 1.02'])\n",
    "plt.xlabel('n', fontsize=14)\n",
    "plt.ylabel('x_n', fontsize=14)"
   ]
  }
 ],
 "metadata": {
  "kernelspec": {
   "display_name": "Python 2",
   "language": "python",
   "name": "python2"
  },
  "language_info": {
   "codemirror_mode": {
    "name": "ipython",
    "version": 2
   },
   "file_extension": ".py",
   "mimetype": "text/x-python",
   "name": "python",
   "nbconvert_exporter": "python",
   "pygments_lexer": "ipython2",
   "version": "2.7.12"
  }
 },
 "nbformat": 4,
 "nbformat_minor": 2
}
