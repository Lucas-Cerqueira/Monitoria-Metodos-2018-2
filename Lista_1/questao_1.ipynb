{
 "cells": [
  {
   "cell_type": "markdown",
   "metadata": {},
   "source": [
    "### Questão 1"
   ]
  },
  {
   "cell_type": "markdown",
   "metadata": {},
   "source": [
    "Prove que $\\lim{} \\frac{n}{n+1} = 1$"
   ]
  },
  {
   "cell_type": "markdown",
   "metadata": {},
   "source": [
    "### Solução\n",
    "\n",
    "Pela definição de limite:\n",
    "$$ \\lim_{} x_n = a \\equiv \\forall \\; \\epsilon > 0 \\; \\exists n_0 \\in \\mathbb{N}; n > n_0 \\Rightarrow \\mid x_n - a \\mid < \\epsilon $$\n",
    "\n",
    "Sendo $x_n = \\frac{n}{n+1}$:\n",
    "$$\n",
    "\\begin{align*}\n",
    "\\left\\lvert \\frac{n}{n+1} - 1 \\right\\rvert &< \\epsilon \\\\\n",
    "\\left\\lvert \\frac{-1}{n+1} \\right\\rvert &< \\epsilon \\\\\n",
    "\\frac{1}{n+1} &< \\epsilon \\\\\n",
    "n + 1 &> \\frac{1}{\\epsilon}\n",
    "\\end{align*}\n",
    "$$\n",
    "\n",
    "Testando alguns valores de $\\epsilon$: <br>\n",
    "$\\epsilon = 1 \\rightarrow n > 0$ <br>\n",
    "$\\epsilon = 0.1 \\rightarrow n > 9$ <br>\n",
    "$\\epsilon = 0.01 \\rightarrow n > 99$ <br>\n",
    "$\\vdots$ <br>\n",
    "\n",
    "Para todo $\\epsilon > 0$, tão pequeno quanto eu queira, sempre vai existir um $n$ tal que $x_n$ está próximo o suficiente do limite. Pense em $\\epsilon$ como uma margem de erro."
   ]
  },
  {
   "cell_type": "markdown",
   "metadata": {},
   "source": [
    "#### Importando bibliotecas"
   ]
  },
  {
   "cell_type": "code",
   "execution_count": 1,
   "metadata": {},
   "outputs": [],
   "source": [
    "import matplotlib.pyplot as plt\n",
    "import numpy as np\n",
    "%matplotlib notebook"
   ]
  },
  {
   "cell_type": "markdown",
   "metadata": {},
   "source": [
    "#### Definindo a sequência $n$ e calculando a função desejada"
   ]
  },
  {
   "cell_type": "code",
   "execution_count": 2,
   "metadata": {},
   "outputs": [],
   "source": [
    "# Definindo a sequência de números n\n",
    "n = np.arange (1.0, 1001.0) # de 1 (inclusive) até 1001 (exclusive)\n",
    "# Calculando a função\n",
    "fun = n / (n + 1)"
   ]
  },
  {
   "cell_type": "markdown",
   "metadata": {},
   "source": [
    "#### Checando o primeiro $n$ tal que $\\lim_{}\\left\\lvert x_n - 1 \\right\\rvert < \\epsilon$ para alguns valores de $\\epsilon$."
   ]
  },
  {
   "cell_type": "code",
   "execution_count": 3,
   "metadata": {},
   "outputs": [
    {
     "name": "stdout",
     "output_type": "stream",
     "text": [
      "Primeiro n para epsilon=0.100: 10\n",
      "Primeiro n para epsilon=0.010: 100\n",
      "Primeiro n para epsilon=0.001: 1000\n"
     ]
    }
   ],
   "source": [
    "# A função np.round() é utilizada para arredondar e evitar erros de comparação devido à precisão\n",
    "\n",
    "epsilon_1 = 0.1\n",
    "n_1 = (np.round(abs(fun-1), 10) < epsilon_1).tolist().index(True) + 1\n",
    "print (\"Primeiro n para epsilon=%.3f: %i\" %(epsilon_1, n_1))\n",
    "\n",
    "epsilon_2 = 0.01\n",
    "n_2 = (np.round(abs(fun-1), 10) < epsilon_2).tolist().index(True) + 1\n",
    "print (\"Primeiro n para epsilon=%.3f: %i\" %(epsilon_2, n_2))\n",
    "\n",
    "epsilon_3 = 0.001\n",
    "n_3 = (np.round(abs(fun-1), 10) < epsilon_3).tolist().index(True) + 1\n",
    "print (\"Primeiro n para epsilon=%.3f: %i\" %(epsilon_3, n_3))"
   ]
  },
  {
   "cell_type": "markdown",
   "metadata": {},
   "source": [
    "#### Plot do gráfico"
   ]
  },
  {
   "cell_type": "code",
   "execution_count": 4,
   "metadata": {},
   "outputs": [
    {
     "data": {
      "text/plain": [
       "<matplotlib.legend.Legend at 0x7f606d099a50>"
      ]
     },
     "execution_count": 4,
     "metadata": {},
     "output_type": "execute_result"
    },
    {
     "data": {
      "image/png": "[encoded data removed]",
      "text/plain": [
       "<Figure size 432x288 with 1 Axes>"
      ]
     },
     "metadata": {},
     "output_type": "display_data"
    }
   ],
   "source": [
    "fig=plt.figure(figsize=(6, 4))\n",
    "# Plotando n pela função\n",
    "plt.scatter (n, fun)\n",
    "# Configurando os eixos\n",
    "plt.ylabel (\"n/(n+1)\", fontsize=14)\n",
    "plt.xlabel (\"n\", fontsize=14)\n",
    "\n",
    "# Desenha uma linha horizontal e uma vertical para cada\n",
    "# epsilon\n",
    "plt.axvline(x=n_1, linestyle='--', color='red')\n",
    "plt.axhline(y=1-epsilon_1, linestyle='--', color='red', label='_nolegend_')\n",
    "\n",
    "plt.axvline(x=n_2, linestyle='--', color='green')\n",
    "plt.axhline(y=1-epsilon_2, linestyle='--', color='green', label='_nolegend_')\n",
    "\n",
    "plt.axvline(x=n_3, linestyle='--', color='black')\n",
    "plt.axhline(y=1-epsilon_3, linestyle='--', color='black', label='_nolegend_')\n",
    "\n",
    "plt.legend(['epsilon=0.1; n>9', 'epsilon=0.01; n>99', 'epsilon=0.001; n>999'])"
   ]
  }
 ],
 "metadata": {
  "kernelspec": {
   "display_name": "Python 2",
   "language": "python",
   "name": "python2"
  },
  "language_info": {
   "codemirror_mode": {
    "name": "ipython",
    "version": 2
   },
   "file_extension": ".py",
   "mimetype": "text/x-python",
   "name": "python",
   "nbconvert_exporter": "python",
   "pygments_lexer": "ipython2",
   "version": "2.7.12"
  }
 },
 "nbformat": 4,
 "nbformat_minor": 2
}
