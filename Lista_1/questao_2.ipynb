{
 "cells": [
  {
   "cell_type": "markdown",
   "metadata": {},
   "source": [
    "### Questão 2"
   ]
  },
  {
   "cell_type": "markdown",
   "metadata": {},
   "source": [
    "Se $\\lim_{} x_n = a$, prove que $\\lim_{} \\left\\lvert x_n \\right\\rvert= \\left\\lvert a \\right\\rvert$."
   ]
  },
  {
   "cell_type": "markdown",
   "metadata": {},
   "source": [
    "### Solução\n",
    "\n",
    "Pela definição de limite:\n",
    "$$ \\lim_{} x_n = a \\equiv \\forall \\epsilon > 0  \\exists n_0 \\in \\mathbb{N}; n > n_0 \\Rightarrow \\mid x_n - a \\mid < \\epsilon $$\n",
    "\n",
    "Pela desigualdade triangular, temos:\n",
    "$$ \\left\\lvert a + b \\right\\rvert \\leq \\left\\lvert a \\right\\rvert  + \\left\\lvert b \\right\\rvert$$\n",
    "\n",
    "Fazendo a seguinte manipulação e utilizando a desigualdade triangular, provamos que:<br>\n",
    "$$\\left\\lvert a \\right\\rvert = \\left\\lvert b + (a - b) \\right\\rvert \\leq \\left\\lvert b \\right\\rvert + \\left\\lvert a - b \\right\\rvert $$<br>\n",
    "$$ \\left\\lvert a - b \\right\\rvert \\geq \\left\\lvert a \\right\\rvert  - \\left\\lvert b \\right\\rvert $$\n",
    "\n",
    "Utilizando isso em $\\left\\lvert x_n - a \\right\\rvert < \\epsilon$ e aplicando o módulo:\n",
    "\\begin{align}\n",
    "\\left\\lvert x_n \\right\\rvert - \\left\\lvert a \\right\\rvert &\\leq \\left\\lvert x_n - a \\right\\rvert < \\epsilon \\\\\n",
    "\\left\\lvert \\left\\lvert x_n\\right\\rvert - \\left\\lvert a \\right\\rvert \\right\\rvert &< \\left\\lvert \\epsilon \\right\\rvert = \\epsilon, \\quad \\epsilon > 0\n",
    "\\end{align}\n",
    "\n",
    "Portanto, se $\\lim_{} x_n = a$, então:\n",
    "$$\\lim_{} \\left\\lvert x_n \\right\\rvert= \\left\\lvert a \\right\\rvert$$"
   ]
  },
  {
   "cell_type": "markdown",
   "metadata": {},
   "source": [
    "#### Importando bibliotecas"
   ]
  },
  {
   "cell_type": "code",
   "execution_count": 5,
   "metadata": {},
   "outputs": [],
   "source": [
    "import matplotlib.pyplot as plt\n",
    "import numpy as np\n",
    "%matplotlib inline"
   ]
  },
  {
   "cell_type": "markdown",
   "metadata": {},
   "source": [
    "#### Definindo a sequência $x_n = (-0.5) ^ n - 0.2, \\, n \\in \\mathbb{N}$, que oscila entre valores positivos e negativos e converge para $-0.2$."
   ]
  },
  {
   "cell_type": "code",
   "execution_count": 6,
   "metadata": {},
   "outputs": [],
   "source": [
    "# Definindo a sequência de números n\n",
    "n = np.arange (1.0, 51.0) # de 1 (inclusive) até 51 (exclusive)\n",
    "# Calculando a função\n",
    "x_n = (-0.5)**n - 0.2"
   ]
  },
  {
   "cell_type": "markdown",
   "metadata": {},
   "source": [
    "#### Gráfico de $x_n$ e de $\\left\\lvert x_n \\right\\rvert$."
   ]
  },
  {
   "cell_type": "code",
   "execution_count": 7,
   "metadata": {},
   "outputs": [
    {
     "data": {
      "text/plain": [
       "<matplotlib.legend.Legend at 0x7fb1a4edbc10>"
      ]
     },
     "execution_count": 7,
     "metadata": {},
     "output_type": "execute_result"
    },
    {
     "data": {
      "image/png": "[encoded data removed]",
      "text/plain": [
       "<Figure size 1080x648 with 1 Axes>"
      ]
     },
     "metadata": {},
     "output_type": "display_data"
    }
   ],
   "source": [
    "fig=plt.figure(figsize=(15, 9))\n",
    "plt.scatter(n, x_n, s=50)\n",
    "plt.scatter(n, abs(x_n), s=15)\n",
    "plt.legend(['x_n', 'abs(x_n)'])"
   ]
  }
 ],
 "metadata": {
  "kernelspec": {
   "display_name": "Python 2",
   "language": "python",
   "name": "python2"
  },
  "language_info": {
   "codemirror_mode": {
    "name": "ipython",
    "version": 2
   },
   "file_extension": ".py",
   "mimetype": "text/x-python",
   "name": "python",
   "nbconvert_exporter": "python",
   "pygments_lexer": "ipython2",
   "version": "2.7.12"
  }
 },
 "nbformat": 4,
 "nbformat_minor": 2
}
