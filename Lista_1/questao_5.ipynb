{
 "cells": [
  {
   "cell_type": "markdown",
   "metadata": {},
   "source": [
    "### Questão 1\n",
    "\n",
    "Dado $c > 0$, defina indutivamente a sequência $(x_n)$ pondo $x_1 = \\sqrt{c}$ e $x_{n+1} = \\sqrt{c . x_n}$ para todo $n \\in \\mathbb{N}$. Disserte sobre a convergência de $(x_n)$."
   ]
  },
  {
   "cell_type": "markdown",
   "metadata": {},
   "source": [
    "### Solução\n",
    "\n",
    "Dado que $x_1 = \\sqrt{c}$ e $x_{n+1} = \\sqrt{c . x_n}$:\n",
    "\\begin{align}\n",
    "x_1 &= \\sqrt{c} &= c^{\\frac{1}{2}} \\\\\n",
    "x_2 &= \\sqrt{c.x_1} = (c^{\\frac{3}{2}})^{\\frac{1}{2}} &= c^{\\frac{3}{4}} \\\\\n",
    "x_3 &= \\sqrt{c.x_2} = (c^{\\frac{7}{4}})^{\\frac{1}{2}} &= c^{\\frac{7}{8}} \\\\\n",
    "x_4 &= \\sqrt{c.x_3} = (c^{\\frac{15}{8}})^{\\frac{1}{2}} &= c^{\\frac{15}{16}} \\\\\n",
    "\\ldots\n",
    "\\end{align}\n",
    "Quero provar por indução que $x_n = c^{\\frac{2^n - 1}{2^n}}$ para todo $n \\in \\mathbb{N}$. Assumindo que isso vale para um $n=k$:\n",
    "### $$ x_k = c^{\\frac{2^k - 1}{2^k}}$$\n",
    "Para $n = k+1$, temos que:\n",
    "### $$ x_{k+1} = \\sqrt{c.x_k} = \\sqrt{c.c^{\\frac{2^k - 1}{2^k}}} = \\sqrt{c^{\\frac{2^{k+1} - 1}{2^k}}} = c^{\\frac{2^{k+1} - 1}{2^{k+1}}}$$\n",
    "Portanto, por indução: \n",
    "### $$x_n = c^{\\frac{2^n - 1}{2^n}} = c^{1 - \\frac{1}{2^n}}, \\forall n \\in \\mathbb{N}$$\n",
    "Como $\\lim{} \\frac{1}{2^n} = 0$:\n",
    "### $$lim_{} {x_n} = c $$"
   ]
  },
  {
   "cell_type": "markdown",
   "metadata": {},
   "source": [
    "#### Importando bibliotecas e definindo a quantidade de termos da sequência"
   ]
  },
  {
   "cell_type": "code",
   "execution_count": 37,
   "metadata": {},
   "outputs": [],
   "source": [
    "import matplotlib.pyplot as plt\n",
    "import numpy as np\n",
    "%matplotlib inline\n",
    "\n",
    "N = 50"
   ]
  },
  {
   "cell_type": "markdown",
   "metadata": {},
   "source": [
    "#### Definindo $c = 10$ e calculando os termos da sequência. Observe que a sequência é monotônica crescente se $c > 1$."
   ]
  },
  {
   "cell_type": "code",
   "execution_count": 38,
   "metadata": {},
   "outputs": [
    {
     "data": {
      "text/plain": [
       "Text(0.5,0,'n')"
      ]
     },
     "execution_count": 38,
     "metadata": {},
     "output_type": "execute_result"
    },
    {
     "data": {
      "image/png": "[encoded data removed]",
      "text/plain": [
       "<Figure size 432x288 with 1 Axes>"
      ]
     },
     "metadata": {},
     "output_type": "display_data"
    }
   ],
   "source": [
    "c = 10\n",
    "sequencia = [c**(1 - 1.0/2**n) for n in range(1,N+1)]\n",
    "plt.plot(range(1,N+1), sequencia, 'o')\n",
    "plt.title(\"Sequencia para c = %i\" % c)\n",
    "plt.xlabel(\"n\")"
   ]
  },
  {
   "cell_type": "markdown",
   "metadata": {},
   "source": [
    "#### Definindo $c = 2$ e calculando os termos da sequência. Observe que a sequência é monotônica crescente se $c > 1$."
   ]
  },
  {
   "cell_type": "code",
   "execution_count": 39,
   "metadata": {
    "scrolled": true
   },
   "outputs": [
    {
     "data": {
      "text/plain": [
       "Text(0.5,0,'n')"
      ]
     },
     "execution_count": 39,
     "metadata": {},
     "output_type": "execute_result"
    },
    {
     "data": {
      "image/png": "[encoded data removed]",
      "text/plain": [
       "<Figure size 432x288 with 1 Axes>"
      ]
     },
     "metadata": {},
     "output_type": "display_data"
    }
   ],
   "source": [
    "c = 2\n",
    "sequencia = [c**(1 - 1.0/2**n) for n in range(1,N+1)]\n",
    "plt.plot(range(1,N+1), sequencia, 'o')\n",
    "plt.title(\"Sequencia para c = %i\" % c)\n",
    "plt.xlabel(\"n\")"
   ]
  },
  {
   "cell_type": "markdown",
   "metadata": {},
   "source": [
    "#### Definindo $c = 0.5$ e calculando os termos da sequência. Observe que a sequência é monotônica decrescente se $c < 1$."
   ]
  },
  {
   "cell_type": "code",
   "execution_count": 40,
   "metadata": {
    "scrolled": false
   },
   "outputs": [
    {
     "data": {
      "text/plain": [
       "Text(0.5,0,'n')"
      ]
     },
     "execution_count": 40,
     "metadata": {},
     "output_type": "execute_result"
    },
    {
     "data": {
      "image/png": "[encoded data removed]",
      "text/plain": [
       "<Figure size 432x288 with 1 Axes>"
      ]
     },
     "metadata": {},
     "output_type": "display_data"
    }
   ],
   "source": [
    "c = 0.5\n",
    "sequencia = [c**(1 - 1.0/2**n) for n in range(1,N+1)]\n",
    "plt.plot(range(1,N+1), sequencia, 'o')\n",
    "plt.title(\"Sequencia para c = %i\" % c)\n",
    "plt.xlabel(\"n\")"
   ]
  },
  {
   "cell_type": "markdown",
   "metadata": {},
   "source": [
    "#### Definindo $c = 1$ e calculando os termos da sequência. Como esperado, os termos da sequência passa a ser constantes e iguais a $1$."
   ]
  },
  {
   "cell_type": "code",
   "execution_count": 41,
   "metadata": {
    "scrolled": false
   },
   "outputs": [
    {
     "data": {
      "text/plain": [
       "Text(0.5,0,'n')"
      ]
     },
     "execution_count": 41,
     "metadata": {},
     "output_type": "execute_result"
    },
    {
     "data": {
      "image/png": "[encoded data removed]",
      "text/plain": [
       "<Figure size 432x288 with 1 Axes>"
      ]
     },
     "metadata": {},
     "output_type": "display_data"
    }
   ],
   "source": [
    "c = 1\n",
    "sequencia = [c**(1 - 1.0/2**n) for n in range(1,N+1)]\n",
    "plt.plot(range(1,N+1), sequencia, 'o')\n",
    "plt.title(\"Sequencia para c = %i\" % c)\n",
    "plt.xlabel(\"n\")"
   ]
  },
  {
   "cell_type": "code",
   "execution_count": null,
   "metadata": {},
   "outputs": [],
   "source": []
  }
 ],
 "metadata": {
  "kernelspec": {
   "display_name": "Python 2",
   "language": "python",
   "name": "python2"
  },
  "language_info": {
   "codemirror_mode": {
    "name": "ipython",
    "version": 2
   },
   "file_extension": ".py",
   "mimetype": "text/x-python",
   "name": "python",
   "nbconvert_exporter": "python",
   "pygments_lexer": "ipython2",
   "version": "2.7.15rc1"
  }
 },
 "nbformat": 4,
 "nbformat_minor": 2
}
